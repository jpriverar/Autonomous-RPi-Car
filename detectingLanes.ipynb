{
 "cells": [
  {
   "cell_type": "code",
   "execution_count": 4,
   "id": "36b234b4-8fd0-4ad4-9059-c2dc33298f77",
   "metadata": {},
   "outputs": [],
   "source": [
    "import cv2\n",
    "import numpy as np"
   ]
  },
  {
   "cell_type": "code",
   "execution_count": 5,
   "id": "d8adbbe0-e3cc-4355-af9a-9fe6c77c9faa",
   "metadata": {},
   "outputs": [],
   "source": [
    "def find_intersection(p1, p2, p3, p4):\n",
    "    a1 = p2[1] - p1[1]\n",
    "    b1 = p1[0] - p2[0]\n",
    "    c1 = a1*p1[0] + b1*p1[1]\n",
    "    \n",
    "    a2 = p4[1] - p3[1]\n",
    "    b2 = p3[0] - p4[0]\n",
    "    c2 = a2*p3[0] + b2*p3[1]\n",
    "    \n",
    "    determinant = a1*b2 - a2*b1\n",
    "    # Determinant not zero\n",
    "    if determinant:\n",
    "        x = round((b2*c1 - b1*c2)/determinant)\n",
    "        y = round((a1*c2 - a2*c1)/determinant)\n",
    "        return (x,y)\n",
    "    else:\n",
    "        return None"
   ]
  },
  {
   "cell_type": "code",
   "execution_count": 6,
   "id": "b0baea3e-1dad-49e2-b4bb-bd7d3c5959e1",
   "metadata": {},
   "outputs": [],
   "source": [
    "def get_angle(p1, p2, p3, p4, degrees=False):\n",
    "    vec1 = (p2[0]-p1[0], p2[1]-p1[1])\n",
    "    vec2 = (p4[0]-p3[0], p4[1]-p3[1])\n",
    "    \n",
    "    uvec1 = vec1 / np.linalg.norm(vec2)\n",
    "    uvec2 = vec2 / np.linalg.norm(vec2)\n",
    "    angle = np.arccos(np.clip(np.dot(uvec1, uvec2), -1.0, 1.0))\n",
    "    \n",
    "    if degrees:\n",
    "        angle = angle*180/np.pi\n",
    "        \n",
    "    return angle"
   ]
  },
  {
   "cell_type": "code",
   "execution_count": 7,
   "id": "50358409-ca32-495d-929d-af7d410215ae",
   "metadata": {},
   "outputs": [
    {
     "name": "stdout",
     "output_type": "stream",
     "text": [
      "[array([54, 39,  0]), array([255, 255, 255])]\n"
     ]
    }
   ],
   "source": [
    "# Defining our color space\n",
    "color_space = 'HSV'\n",
    "\n",
    "# Reading threshhold values for the mask\n",
    "threshold_vals = []\n",
    "threshold_file = open(f'{color_space}_values', 'r')\n",
    "for line in threshold_file.readlines():\n",
    "    threshold_vals.append(np.array([int(x) for x in line.strip().split()]))\n",
    "    \n",
    "print(threshold_vals)"
   ]
  },
  {
   "cell_type": "code",
   "execution_count": 18,
   "id": "1ddb03b1-4aa7-4d83-a065-c4f32533ea36",
   "metadata": {},
   "outputs": [],
   "source": [
    "def get_binary_threshold(frame, threshold_values):\n",
    "    # Masking the frame with the threshold values\n",
    "    mask = cv2.inRange(frame, threshold_values[0], threshold_values[1])\n",
    "    masked = cv2.bitwise_and(frame, frame, mask=mask)\n",
    "    \n",
    "    # Finding edges/contours\n",
    "    #edges = cv2.Canny(masked,100,200)\n",
    "    \n",
    "    # Getting a thresolded image\n",
    "    gray = masked[:,:,0]+masked[:,:,1]  #gray = H values + S values\n",
    "    ret, gray = cv2.threshold(gray, 5, 255, cv2.THRESH_BINARY)\n",
    "    \n",
    "    return gray"
   ]
  },
  {
   "cell_type": "code",
   "execution_count": 19,
   "id": "07719405-6d8a-4b54-962b-7551dba0714f",
   "metadata": {},
   "outputs": [],
   "source": [
    "def get_roi(frame, interest_percentage):\n",
    "    x_end = frame.shape[1]\n",
    "    y_end = round(frame.shape[0]*(1-interest_percentage))\n",
    "    black_region = np.zeros((y_end, x_end))\n",
    "    frame[0:y_end, 0:x_end] = black_region"
   ]
  },
  {
   "cell_type": "code",
   "execution_count": 20,
   "id": "329f7cc6-c8be-4813-a588-8cbed32cf8bb",
   "metadata": {},
   "outputs": [],
   "source": [
    "def get_windows_values(frame, nonzerox, nonzeroy, x_values, n_windows, window_height, width_margin, min_recenter_pixels, downwards=False):    \n",
    "    # list of points\n",
    "    values = dict()\n",
    "    \n",
    "    # Start the next windows where the mean from the previous wnidow is\n",
    "    follow_previous = False\n",
    "    \n",
    "    # Checking if x values are provided or should be found\n",
    "    if len(x_values) == 1:\n",
    "        values['x_points'] = np.zeros(n_windows, dtype=np.int16)\n",
    "        values['x_points'][0] = x_values[0]\n",
    "        follow_previous = True\n",
    "        \n",
    "    elif len(x_values) == n_windows:\n",
    "        values['x_points'] = x_values\n",
    "    else: raise ValueError('x_values must be either a single point o a list of values for each of the windows')\n",
    "        \n",
    "    values['y_points'] = np.zeros(n_windows, dtype=np.int16)\n",
    "    values['corners'] = []\n",
    "    values['windows'] = [False for _ in range(n_windows)]\n",
    "    \n",
    "    # Check if we're going upwards or downwards\n",
    "    windows = range(n_windows)[::-1] if downwards else range(n_windows)\n",
    "    \n",
    "    for window in windows:        \n",
    "        y_bottom = frame.shape[0] - (window+1)*window_height\n",
    "        y_top = frame.shape[0] - window*window_height\n",
    "        y_current = y_top-(y_top-y_bottom)//2\n",
    "        x_left = values['x_points'][window] - width_margin\n",
    "        x_right = values['x_points'][window] + width_margin\n",
    "        \n",
    "        # Getting the index of the non zero pixels in the window\n",
    "        valid_idx = ((nonzeroy >= y_bottom) & (nonzeroy < y_top) & (nonzerox >= x_left) & (nonzerox < x_right)).nonzero()[0]\n",
    "        \n",
    "        # If you found > minpix pixels, recenter next window on their mean position\n",
    "        if len(valid_idx) > min_recenter_pixels:\n",
    "            values['x_points'][window] = int(np.mean(nonzerox[valid_idx]))\n",
    "            values['windows'][window] = True # Saving the index of the window to use latter for fitting\n",
    "            \n",
    "        if follow_previous and window < n_windows-1: values['x_points'][window+1] = values['x_points'][window]\n",
    "            \n",
    "        # Saving the newly computed points\n",
    "        values['y_points'][window] = y_current\n",
    "        values['corners'].append(((x_left, y_bottom),(x_right, y_top)))\n",
    "        \n",
    "    return values"
   ]
  },
  {
   "cell_type": "code",
   "execution_count": 21,
   "id": "128f9516-91ad-42f3-afbc-86330cfd7d23",
   "metadata": {},
   "outputs": [],
   "source": [
    "def get_bad_window_limit(windows):\n",
    "    for i, window in enumerate(windows):\n",
    "        if window: return i-1\n",
    "    return len(windows)\n",
    "\n",
    "def get_windows_with_histogram(frame, x_current, nwindows=10, min_recenter_pixels=25, width_margin=50):    \n",
    "    # Window height\n",
    "    window_height = frame.shape[0]//(2*nwindows)\n",
    "    \n",
    "    # Pixels that are non zero\n",
    "    nonzero = frame.nonzero()\n",
    "    nonzeroy = np.array(nonzero[0])\n",
    "    nonzerox = np.array(nonzero[1])\n",
    "    \n",
    "    values = get_windows_values(frame=frame, nonzerox=nonzerox, nonzeroy=nonzeroy, x_values=[x_current], n_windows=nwindows, window_height=window_height, width_margin=width_margin, min_recenter_pixels=min_recenter_pixels)\n",
    "    bad_limit = get_bad_window_limit(values['windows'])\n",
    "    \n",
    "    if  -1 < bad_limit < nwindows: # if there's at least 1 bad window and not all of them are bad\n",
    "        good_nearest = values['x_points'][bad_limit+1] \n",
    "        fixed_values = get_windows_values(frame=frame, nonzerox=nonzerox, nonzeroy=nonzeroy, x_values=[good_nearest], n_windows=bad_limit+1, window_height=window_height, width_margin=width_margin, min_recenter_pixels=min_recenter_pixels, downwards=True)\n",
    "        \n",
    "        #Assigning our new fixed values \n",
    "        values['x_points'][:bad_limit+1] = fixed_values['x_points']\n",
    "        values['corners'][:bad_limit+1] = fixed_values['corners']\n",
    "        \n",
    "        # Finally re-sweeping the windows through to adjust upper windows\n",
    "        values = get_windows_values(frame=frame, nonzerox=nonzerox, nonzeroy=nonzeroy, x_values=[values['x_points'][0]], n_windows=nwindows, window_height=window_height, width_margin=width_margin, min_recenter_pixels=min_recenter_pixels)\n",
    "    return values['x_points'], values['y_points'], values['corners'], values['windows']"
   ]
  },
  {
   "cell_type": "code",
   "execution_count": 22,
   "id": "a7d839d6-4148-41cf-a321-eb008df60eb8",
   "metadata": {},
   "outputs": [],
   "source": [
    "def get_windows_with_polynomial(frame, fit, nwindows=10, min_recenter_pixels=25, width_margin=50):\n",
    "    # Window height\n",
    "    window_height = frame.shape[0]//(2*nwindows)\n",
    "    \n",
    "    # Getting our defined y values to compute the x ones\n",
    "    y_vals = [int(frame.shape[0]-(window_height*i)-(window_height/2)) for i in range(nwindows)]\n",
    "    \n",
    "    x_vals = np.polyval(fit, y_vals).astype(int)\n",
    "    \n",
    "    # Pixels that are non zero\n",
    "    nonzero = frame.nonzero()\n",
    "    nonzeroy = np.array(nonzero[0])\n",
    "    nonzerox = np.array(nonzero[1])\n",
    "    \n",
    "    values = get_windows_values(frame=frame, nonzerox=nonzerox, nonzeroy=nonzeroy, x_values=x_vals, n_windows=nwindows, window_height=window_height, width_margin=width_margin, min_recenter_pixels=min_recenter_pixels)\n",
    "    return values['x_points'], values['y_points'], values['corners'], values['windows']"
   ]
  },
  {
   "cell_type": "code",
   "execution_count": 23,
   "id": "7eeae0d5-dc0c-43df-a7c7-1e5f2157bd2c",
   "metadata": {},
   "outputs": [],
   "source": [
    "def fit_poly_points(x_points, y_points, degree=2, x_range=(0,100)):\n",
    "    fit = np.polyfit(x_points, y_points, degree)\n",
    "    \n",
    "    x_vals = np.arange(x_range[0], x_range[1])\n",
    "    \n",
    "    try:\n",
    "        y_vals = np.polyval(fit, x_vals)\n",
    "    except TypeError as e:\n",
    "        print(e)\n",
    "        pass\n",
    "    \n",
    "    return fit, (x_vals, y_vals)"
   ]
  },
  {
   "cell_type": "code",
   "execution_count": 45,
   "id": "382d7f85-2343-45bd-b351-2ae3819cb2ca",
   "metadata": {},
   "outputs": [
    {
     "name": "stderr",
     "output_type": "stream",
     "text": [
      "C:\\Users\\jprr2\\AppData\\Local\\Temp/ipykernel_24024/1002746285.py:74: RankWarning: Polyfit may be poorly conditioned\n",
      "  prev_right_fit, right_fit = fit_poly_points(good_y_right, good_x_right, degree=degree, x_range=(working_frame.shape[0]//2, working_frame.shape[0]))\n"
     ]
    },
    {
     "name": "stdout",
     "output_type": "stream",
     "text": [
      "Not enough points to fit\n",
      "Not enough points to fit\n",
      "Not enough points to fit\n",
      "Not enough points to fit\n",
      "Not enough points to fit\n",
      "Not enough points to fit\n",
      "Not enough points to fit\n"
     ]
    },
    {
     "name": "stderr",
     "output_type": "stream",
     "text": [
      "C:\\Users\\jprr2\\AppData\\Local\\Temp/ipykernel_24024/1002746285.py:73: RankWarning: Polyfit may be poorly conditioned\n",
      "  prev_left_fit, left_fit = fit_poly_points(good_y_left, good_x_left, degree=degree, x_range=(working_frame.shape[0]//2, working_frame.shape[0]))\n",
      "C:\\Users\\jprr2\\AppData\\Local\\Temp/ipykernel_24024/1002746285.py:74: RankWarning: Polyfit may be poorly conditioned\n",
      "  prev_right_fit, right_fit = fit_poly_points(good_y_right, good_x_right, degree=degree, x_range=(working_frame.shape[0]//2, working_frame.shape[0]))\n",
      "C:\\Users\\jprr2\\AppData\\Local\\Temp/ipykernel_24024/1002746285.py:73: RankWarning: Polyfit may be poorly conditioned\n",
      "  prev_left_fit, left_fit = fit_poly_points(good_y_left, good_x_left, degree=degree, x_range=(working_frame.shape[0]//2, working_frame.shape[0]))\n",
      "C:\\Users\\jprr2\\AppData\\Local\\Temp/ipykernel_24024/1002746285.py:73: RankWarning: Polyfit may be poorly conditioned\n",
      "  prev_left_fit, left_fit = fit_poly_points(good_y_left, good_x_left, degree=degree, x_range=(working_frame.shape[0]//2, working_frame.shape[0]))\n"
     ]
    },
    {
     "name": "stdout",
     "output_type": "stream",
     "text": [
      "Not enough points to fit\n",
      "Not enough points to fit\n",
      "Not enough points to fit\n",
      "Not enough points to fit\n",
      "Not enough points to fit\n"
     ]
    },
    {
     "name": "stderr",
     "output_type": "stream",
     "text": [
      "C:\\Users\\jprr2\\AppData\\Local\\Temp/ipykernel_24024/1002746285.py:73: RankWarning: Polyfit may be poorly conditioned\n",
      "  prev_left_fit, left_fit = fit_poly_points(good_y_left, good_x_left, degree=degree, x_range=(working_frame.shape[0]//2, working_frame.shape[0]))\n"
     ]
    },
    {
     "name": "stdout",
     "output_type": "stream",
     "text": [
      "Not enough points to fit\n",
      "Not enough points to fit\n",
      "Not enough points to fit\n",
      "Not enough points to fit\n",
      "Not enough points to fit\n",
      "Not enough points to fit\n",
      "Not enough points to fit\n"
     ]
    },
    {
     "name": "stderr",
     "output_type": "stream",
     "text": [
      "C:\\Users\\jprr2\\AppData\\Local\\Temp/ipykernel_24024/1002746285.py:73: RankWarning: Polyfit may be poorly conditioned\n",
      "  prev_left_fit, left_fit = fit_poly_points(good_y_left, good_x_left, degree=degree, x_range=(working_frame.shape[0]//2, working_frame.shape[0]))\n",
      "C:\\Users\\jprr2\\AppData\\Local\\Temp/ipykernel_24024/1002746285.py:73: RankWarning: Polyfit may be poorly conditioned\n",
      "  prev_left_fit, left_fit = fit_poly_points(good_y_left, good_x_left, degree=degree, x_range=(working_frame.shape[0]//2, working_frame.shape[0]))\n",
      "C:\\Users\\jprr2\\AppData\\Local\\Temp/ipykernel_24024/1002746285.py:73: RankWarning: Polyfit may be poorly conditioned\n",
      "  prev_left_fit, left_fit = fit_poly_points(good_y_left, good_x_left, degree=degree, x_range=(working_frame.shape[0]//2, working_frame.shape[0]))\n",
      "C:\\Users\\jprr2\\AppData\\Local\\Temp/ipykernel_24024/1002746285.py:74: RankWarning: Polyfit may be poorly conditioned\n",
      "  prev_right_fit, right_fit = fit_poly_points(good_y_right, good_x_right, degree=degree, x_range=(working_frame.shape[0]//2, working_frame.shape[0]))\n"
     ]
    },
    {
     "name": "stdout",
     "output_type": "stream",
     "text": [
      "Not enough points to fit\n",
      "Not enough points to fit\n",
      "Not enough points to fit\n",
      "Not enough points to fit\n",
      "Not enough points to fit\n",
      "Not enough points to fit\n"
     ]
    },
    {
     "name": "stderr",
     "output_type": "stream",
     "text": [
      "C:\\Users\\jprr2\\AppData\\Local\\Temp/ipykernel_24024/1002746285.py:73: RankWarning: Polyfit may be poorly conditioned\n",
      "  prev_left_fit, left_fit = fit_poly_points(good_y_left, good_x_left, degree=degree, x_range=(working_frame.shape[0]//2, working_frame.shape[0]))\n",
      "C:\\Users\\jprr2\\AppData\\Local\\Temp/ipykernel_24024/1002746285.py:74: RankWarning: Polyfit may be poorly conditioned\n",
      "  prev_right_fit, right_fit = fit_poly_points(good_y_right, good_x_right, degree=degree, x_range=(working_frame.shape[0]//2, working_frame.shape[0]))\n",
      "C:\\Users\\jprr2\\AppData\\Local\\Temp/ipykernel_24024/1002746285.py:73: RankWarning: Polyfit may be poorly conditioned\n",
      "  prev_left_fit, left_fit = fit_poly_points(good_y_left, good_x_left, degree=degree, x_range=(working_frame.shape[0]//2, working_frame.shape[0]))\n",
      "C:\\Users\\jprr2\\AppData\\Local\\Temp/ipykernel_24024/1002746285.py:73: RankWarning: Polyfit may be poorly conditioned\n",
      "  prev_left_fit, left_fit = fit_poly_points(good_y_left, good_x_left, degree=degree, x_range=(working_frame.shape[0]//2, working_frame.shape[0]))\n",
      "C:\\Users\\jprr2\\AppData\\Local\\Temp/ipykernel_24024/1002746285.py:73: RankWarning: Polyfit may be poorly conditioned\n",
      "  prev_left_fit, left_fit = fit_poly_points(good_y_left, good_x_left, degree=degree, x_range=(working_frame.shape[0]//2, working_frame.shape[0]))\n"
     ]
    },
    {
     "name": "stdout",
     "output_type": "stream",
     "text": [
      "Not enough points to fit\n",
      "Not enough points to fit\n",
      "Not enough points to fit\n",
      "Not enough points to fit\n",
      "Not enough points to fit\n",
      "Not enough points to fit\n",
      "Not enough points to fit\n"
     ]
    },
    {
     "name": "stderr",
     "output_type": "stream",
     "text": [
      "C:\\Users\\jprr2\\AppData\\Local\\Temp/ipykernel_24024/1002746285.py:73: RankWarning: Polyfit may be poorly conditioned\n",
      "  prev_left_fit, left_fit = fit_poly_points(good_y_left, good_x_left, degree=degree, x_range=(working_frame.shape[0]//2, working_frame.shape[0]))\n",
      "C:\\Users\\jprr2\\AppData\\Local\\Temp/ipykernel_24024/1002746285.py:73: RankWarning: Polyfit may be poorly conditioned\n",
      "  prev_left_fit, left_fit = fit_poly_points(good_y_left, good_x_left, degree=degree, x_range=(working_frame.shape[0]//2, working_frame.shape[0]))\n"
     ]
    },
    {
     "name": "stdout",
     "output_type": "stream",
     "text": [
      "Not enough points to fit\n",
      "Not enough points to fit\n",
      "Not enough points to fit\n",
      "Not enough points to fit\n",
      "Not enough points to fit\n",
      "Not enough points to fit\n",
      "Not enough points to fit\n"
     ]
    },
    {
     "name": "stderr",
     "output_type": "stream",
     "text": [
      "C:\\Users\\jprr2\\AppData\\Local\\Temp/ipykernel_24024/1002746285.py:73: RankWarning: Polyfit may be poorly conditioned\n",
      "  prev_left_fit, left_fit = fit_poly_points(good_y_left, good_x_left, degree=degree, x_range=(working_frame.shape[0]//2, working_frame.shape[0]))\n",
      "C:\\Users\\jprr2\\AppData\\Local\\Temp/ipykernel_24024/1002746285.py:73: RankWarning: Polyfit may be poorly conditioned\n",
      "  prev_left_fit, left_fit = fit_poly_points(good_y_left, good_x_left, degree=degree, x_range=(working_frame.shape[0]//2, working_frame.shape[0]))\n",
      "C:\\Users\\jprr2\\AppData\\Local\\Temp/ipykernel_24024/1002746285.py:73: RankWarning: Polyfit may be poorly conditioned\n",
      "  prev_left_fit, left_fit = fit_poly_points(good_y_left, good_x_left, degree=degree, x_range=(working_frame.shape[0]//2, working_frame.shape[0]))\n"
     ]
    },
    {
     "name": "stdout",
     "output_type": "stream",
     "text": [
      "Not enough points to fit\n",
      "Not enough points to fit\n",
      "Not enough points to fit\n",
      "Not enough points to fit\n",
      "Not enough points to fit\n",
      "Not enough points to fit\n"
     ]
    },
    {
     "name": "stderr",
     "output_type": "stream",
     "text": [
      "C:\\Users\\jprr2\\AppData\\Local\\Temp/ipykernel_24024/1002746285.py:73: RankWarning: Polyfit may be poorly conditioned\n",
      "  prev_left_fit, left_fit = fit_poly_points(good_y_left, good_x_left, degree=degree, x_range=(working_frame.shape[0]//2, working_frame.shape[0]))\n",
      "C:\\Users\\jprr2\\AppData\\Local\\Temp/ipykernel_24024/1002746285.py:73: RankWarning: Polyfit may be poorly conditioned\n",
      "  prev_left_fit, left_fit = fit_poly_points(good_y_left, good_x_left, degree=degree, x_range=(working_frame.shape[0]//2, working_frame.shape[0]))\n",
      "C:\\Users\\jprr2\\AppData\\Local\\Temp/ipykernel_24024/1002746285.py:73: RankWarning: Polyfit may be poorly conditioned\n",
      "  prev_left_fit, left_fit = fit_poly_points(good_y_left, good_x_left, degree=degree, x_range=(working_frame.shape[0]//2, working_frame.shape[0]))\n",
      "C:\\Users\\jprr2\\AppData\\Local\\Temp/ipykernel_24024/1002746285.py:73: RankWarning: Polyfit may be poorly conditioned\n",
      "  prev_left_fit, left_fit = fit_poly_points(good_y_left, good_x_left, degree=degree, x_range=(working_frame.shape[0]//2, working_frame.shape[0]))\n",
      "C:\\Users\\jprr2\\AppData\\Local\\Temp/ipykernel_24024/1002746285.py:73: RankWarning: Polyfit may be poorly conditioned\n",
      "  prev_left_fit, left_fit = fit_poly_points(good_y_left, good_x_left, degree=degree, x_range=(working_frame.shape[0]//2, working_frame.shape[0]))\n",
      "C:\\Users\\jprr2\\AppData\\Local\\Temp/ipykernel_24024/1002746285.py:74: RankWarning: Polyfit may be poorly conditioned\n",
      "  prev_right_fit, right_fit = fit_poly_points(good_y_right, good_x_right, degree=degree, x_range=(working_frame.shape[0]//2, working_frame.shape[0]))\n"
     ]
    },
    {
     "name": "stdout",
     "output_type": "stream",
     "text": [
      "Not enough points to fit\n",
      "Not enough points to fit\n"
     ]
    },
    {
     "name": "stderr",
     "output_type": "stream",
     "text": [
      "C:\\Users\\jprr2\\AppData\\Local\\Temp/ipykernel_24024/1002746285.py:74: RankWarning: Polyfit may be poorly conditioned\n",
      "  prev_right_fit, right_fit = fit_poly_points(good_y_right, good_x_right, degree=degree, x_range=(working_frame.shape[0]//2, working_frame.shape[0]))\n"
     ]
    },
    {
     "name": "stdout",
     "output_type": "stream",
     "text": [
      "Not enough points to fit\n",
      "Not enough points to fit\n",
      "Not enough points to fit\n",
      "Not enough points to fit\n",
      "Not enough points to fit\n",
      "Not enough points to fit\n",
      "Not enough points to fit\n",
      "Not enough points to fit\n"
     ]
    }
   ],
   "source": [
    "cap = cv2.VideoCapture(2)\n",
    "\n",
    "# Defining the number of windows to use\n",
    "nwindows = 15\n",
    "\n",
    "# True if a section of lane was found per window\n",
    "left_windows = [False for _ in range(nwindows)]\n",
    "right_windows = [False for _ in range(nwindows)]\n",
    "\n",
    "# Polynomial fit degree\n",
    "degree = 3\n",
    "\n",
    "while cap.isOpened():\n",
    "    ret, frame =  cap.read()\n",
    "    \n",
    "    if frame is None:\n",
    "        print('No frame')\n",
    "        break\n",
    "        \n",
    "    # Cropping the image to remove logitech border\n",
    "    frame = frame[75:frame.shape[0]-75, 15:frame.shape[1]-15, :]\n",
    "    # Creating the frame were we're gonna see the regression and windows\n",
    "    frame_debug = frame.copy()\n",
    "        \n",
    "    # Changing to different color spaces\n",
    "    #lab_frame = cv2.cvtColor(frame, cv2.COLOR_BGR2LAB)\n",
    "    hsv_frame = cv2.cvtColor(frame, cv2.COLOR_BGR2HSV)\n",
    "    #gray = cv2.cvtColor(frame, cv2.COLOR_BGR2GRAY)\n",
    "    \n",
    "    # Choosing the frame we are gonna use for the lane detection sliding windows -> gray; hough lines -> edges\n",
    "    working_frame = get_binary_threshold(hsv_frame, threshold_vals)\n",
    "    \n",
    "    # Taking into account only certain percetage of the image (bottom half)\n",
    "    get_roi(working_frame, 0.5)\n",
    "    \n",
    "    # Getting the window center points for both left and right lane\n",
    "    # if there's already a fit for the lane, then use it to position the windows, otherwise find greateast probability with histogram \n",
    "    if sum(left_windows) < int(nwindows*0.3): \n",
    "        histogram = np.sum(working_frame[working_frame.shape[0]//2:, :working_frame.shape[1]//2], axis=0) # Half of the frame width\n",
    "        left_xcurrent = np.argmax(histogram)\n",
    "\n",
    "        try:\n",
    "            (left_xpoints, y_points, left_corners, left_windows) = get_windows_with_histogram(working_frame, left_xcurrent, nwindows=nwindows, min_recenter_pixels=25, width_margin=50) \n",
    "        except Exeception as e:\n",
    "            print(e)\n",
    "    else:\n",
    "        try:\n",
    "            (left_xpoints, y_points, left_corners, left_windows) = get_windows_with_polynomial(working_frame, prev_left_fit, nwindows=nwindows, min_recenter_pixels=25, width_margin=50)\n",
    "        except Exception as e:\n",
    "            print(e)\n",
    "            \n",
    "    if sum(right_windows) < int(nwindows*0.3):\n",
    "        histogram = np.sum(working_frame[working_frame.shape[0]//2:, working_frame.shape[1]//2:], axis=0) # Half of the frame width\n",
    "        right_xcurrent = np.argmax(histogram) + working_frame.shape[1]//2\n",
    "\n",
    "        try:\n",
    "            (right_xpoints, y_points, right_corners, right_windows) = get_windows_with_histogram(working_frame, right_xcurrent, nwindows=nwindows, min_recenter_pixels=25, width_margin=50) \n",
    "        except Exeception as e:\n",
    "            print(e)\n",
    "    else:\n",
    "        try:\n",
    "            (right_xpoints, y_points, right_corners, right_windows) = get_windows_with_polynomial(working_frame, prev_right_fit, nwindows=nwindows, min_recenter_pixels=25, width_margin=50)\n",
    "        except Exception as e:\n",
    "            print(e)\n",
    "    \n",
    "    # Fitting a third degree polynomial curve to the points\n",
    "    good_x_left = left_xpoints[left_windows]\n",
    "    good_y_left = y_points[left_windows]\n",
    "    good_x_right = right_xpoints[right_windows]\n",
    "    good_y_right = y_points[right_windows]\n",
    "    \n",
    "    try:\n",
    "        prev_left_fit, left_fit = fit_poly_points(good_y_left, good_x_left, degree=degree, x_range=(working_frame.shape[0]//2, working_frame.shape[0]))\n",
    "        prev_right_fit, right_fit = fit_poly_points(good_y_right, good_x_right, degree=degree, x_range=(working_frame.shape[0]//2, working_frame.shape[0]))\n",
    "        \n",
    "        # Drawing polygon with left and right values\n",
    "        poly_y = np.concatenate((left_fit[0], right_fit[0][::-1]), axis=None)\n",
    "        poly_x = np.concatenate((left_fit[1], right_fit[1][::-1]), axis=None)\n",
    "\n",
    "        # Format taken by the fillPoly function np.array([[x1,y1],[x2,y2],[x3,y3],...] )\n",
    "        poly_points = np.array([[x, y] for x, y in zip(poly_x, poly_y)], dtype = np.int32)\n",
    "        \n",
    "        cv2.putText(img=frame_debug, text=f\"left: {prev_left_fit}\", org=(0,50), fontFace=cv2.FONT_HERSHEY_SIMPLEX, fontScale=0.5, color=(255,255,255), thickness=1, lineType=cv2.LINE_AA)\n",
    "        cv2.putText(img=frame_debug, text=f\"right: {prev_right_fit}\", org=(0,100), fontFace=cv2.FONT_HERSHEY_SIMPLEX, fontScale=0.5, color=(255,255,255), thickness=1, lineType=cv2.LINE_AA)\n",
    "        cv2.putText(img=frame_debug, text=f\"merged: {prev_left_fit==prev_right_fit}\", org=(0,150), fontFace=cv2.FONT_HERSHEY_SIMPLEX, fontScale=0.5, color=(255,255,255), thickness=1, lineType=cv2.LINE_AA)\n",
    "        \n",
    "    except Exception as e:\n",
    "        print('Not enough points to fit')\n",
    "\n",
    "    # Drawing windows and it's centers\n",
    "    for i, val in enumerate(left_windows):\n",
    "        color = (0,255,255) if val else (255,0,255)\n",
    "        cv2.circle(frame_debug, (left_xpoints[i], y_points[i]), 2, color, 2)\n",
    "        cv2.rectangle(frame_debug, (left_corners[i][0][0], left_corners[i][0][1]), (left_corners[i][1][0], left_corners[i][1][1]), (0,0,255), 2)\n",
    "        \n",
    "    for i, val in enumerate(right_windows):\n",
    "        color = (0,255,255) if val else (255,0,255)\n",
    "        cv2.circle(frame_debug, (right_xpoints[i], y_points[i]), 2 , (0,255,255), 2)\n",
    "        cv2.rectangle(frame_debug, (right_corners[i][0][0], right_corners[i][0][1]), (right_corners[i][1][0], right_corners[i][1][1]), (0,0,255), 2)\n",
    "    \n",
    "    # Drawing the 3rd degree poly curve\n",
    "    for i in range(len(left_fit[0])):\n",
    "        #print((left_fit[1][i], left_fit[0][i]), (right_fit[1][i], right_fit[0][i]))\n",
    "        cv2.circle(frame_debug, (int(left_fit[1][i]), int(left_fit[0][i])), 1, (255,255,255), 1)\n",
    "        cv2.circle(frame_debug, (int(right_fit[1][i]), int(right_fit[0][i])), 1, (255,255,255), 1)\n",
    "        \n",
    "    # Drawing line in the middle of the screen\n",
    "    cv2.line(frame_debug, (frame_debug.shape[1]//2, 0), (frame_debug.shape[1]//2, frame_debug.shape[0]), (255,255,255), 1)\n",
    "    \n",
    "    key = cv2.waitKey(1) & 0xFF\n",
    "    if key == ord('q') or key == 27: break\n",
    "    \n",
    "    # Drawing it a new frame so we later merge them together with certain alpha\n",
    "    lane_search_area = np.zeros(frame.shape, dtype=np.uint8)\n",
    "    cv2.fillPoly(lane_search_area, [poly_points], (160,255,160))\n",
    "    frame = cv2.addWeighted(src1=frame, alpha=0.6, src2=lane_search_area, beta=0.4, gamma = 0)\n",
    "    \n",
    "    cv2.imshow('frame', frame)\n",
    "    cv2.imshow('debug', frame_debug)\n",
    "    #cv2.imshow('edges', edges)\n",
    "    cv2.imshow('gray', working_frame)\n",
    "    \n",
    "cap.release()\n",
    "cv2.destroyAllWindows()"
   ]
  },
  {
   "cell_type": "code",
   "execution_count": 113,
   "id": "4c1a618d-3687-4a40-9fa7-0c843302fc8a",
   "metadata": {},
   "outputs": [
    {
     "data": {
      "text/plain": [
       "\"\\n    # ----------------------- HOUGH LINES METHOD ----------------------------#\\n    \\n    # Finding line segments\\n    lines = cv2.HoughLinesP(gray,1,np.pi/180,50,minLineLength=50,maxLineGap=10)\\n    if lines is not None:\\n        #print(len(lines))\\n        # Finding the longest line segment on both sides of the screen\\n        longest_left = [0, (0,0,0,0)] # Distance, (x1,y1,x2,y2)\\n        longest_right = [0, (0,0,0,0)] # Distance, (x1,y1,x2,y2)\\n        for line in lines:\\n            # Calculating the total line distance and saving the longest line\\n            x1,y1,x2,y2 = line[0]\\n            \\n            #cv2.line(frame, (x1,y1), (x2,y2), (255,255,0), 2)\\n            #cv2.putText(frame, f'{len(lines)}', org=(50,50), fontFace=cv2.FONT_HERSHEY_SIMPLEX, fontScale=0.5, color=(75,60,100), thickness=1, lineType=cv2.LINE_AA)\\n            \\n            dist = ((y2-y1)**2 + (x2-x1)**2)**0.5\\n            \\n            # Checking if line is in the left side\\n            if x1 <= edges.shape[1]//2 and x2 <= edges.shape[1]//2:\\n                if dist >= longest_left[0]:\\n                    longest_left[0] = dist\\n                    longest_left[1] = line[0]\\n            # Else in the right side\\n            else:\\n                if dist >= longest_right[0]:\\n                    longest_right[0] = dist\\n                    longest_right[1] = line[0]\\n                        \\n            \\n        # Drawing only the longest line on both sides\\n        #print(f'first: ({longest_left[1][0]},{longest_left[1][1]})', f'second: ({longest_left[1][2]},{longest_left[1][3]})')\\n        #cv2.line(frame, (longest_left[1][0],longest_left[1][1]), (longest_left[1][2],longest_left[1][3]), (0,255,0), 2)\\n        #cv2.line(frame, (longest_right[1][0],longest_right[1][1]), (longest_right[1][2], longest_right[1][3]), (0,255,0), 2)\\n        \\n    \\n        \\n        # ----------------------- HOUGH LINES METHOD ----------------------------#\\n        \\n        # - - - - - Technique No. 1 to find center reference - - - - - #\\n        # Finding and drawing the middle point on both lines (longest segments)\\n        middle_left = ((longest_left[1][0]+longest_left[1][2])//2, (longest_left[1][1]+longest_left[1][3])//2)\\n        middle_right = ((longest_right[1][0]+longest_right[1][2])//2, (longest_right[1][1]+longest_right[1][3])//2)\\n        cv2.circle(frame, middle_left, 5, (0,0,255), 5)\\n        cv2.circle(frame, middle_right, 5, (0,0,255), 5)\\n        # Lines between both points and middle point -> reference to follow\\n        center_reference = ((middle_left[0]+middle_right[0])//2, (middle_left[1]+middle_right[1])//2)\\n        cv2.line(frame, middle_left, middle_right, (255,0,0), 2)\\n        cv2.circle(frame, center_reference, 5, (255,255,255), 5)\\n        # - - - - - - - - - - - - - - - - - - - - - - - - - - - - - - #\\n        \\n        # - - - - - Technique No. 2 to find center reference - - - - - #\\n        # Lines between opposite sides of the longest segments\\n        # Checking which points are up or down\\n        if longest_left[1][1] > longest_left[1][3]:\\n            lower_left = (longest_left[1][0], longest_left[1][1])\\n            upper_left = (longest_left[1][2], longest_left[1][3])\\n        else: \\n            lower_left = (longest_left[1][2], longest_left[1][3])\\n            upper_left = (longest_left[1][0], longest_left[1][1])\\n            \\n        if longest_right[1][1] > longest_right[1][3]:\\n            lower_right = (longest_right[1][0], longest_right[1][1])\\n            upper_right = (longest_right[1][2], longest_right[1][3])\\n        else: \\n            lower_right = (longest_right[1][2], longest_right[1][3])\\n            upper_right = (longest_right[1][0], longest_right[1][1])\\n        \\n        # Drawing opposite lines\\n        cv2.line(frame, upper_left, lower_right, (0,255,255), 2)\\n        cv2.line(frame, lower_left, upper_right, (0,255,255), 2)\\n        #Drawing intersection point between both lines\\n        intersection_reference = find_intersection(upper_left, lower_right, lower_left, upper_right)\\n        if intersection_reference:\\n            cv2.circle(frame, intersection_reference, 5, (255,0,255), 5)\\n        # - - - - - - - - - - - - - - - - - - - - - - - - - - - - - - #\\n        \\n    else: pass #print('No lines detected')\\n    \""
      ]
     },
     "execution_count": 113,
     "metadata": {},
     "output_type": "execute_result"
    }
   ],
   "source": [
    "\"\"\"\n",
    "    # ----------------------- HOUGH LINES METHOD ----------------------------#\n",
    "    \n",
    "    # Finding line segments\n",
    "    lines = cv2.HoughLinesP(gray,1,np.pi/180,50,minLineLength=50,maxLineGap=10)\n",
    "    if lines is not None:\n",
    "        #print(len(lines))\n",
    "        # Finding the longest line segment on both sides of the screen\n",
    "        longest_left = [0, (0,0,0,0)] # Distance, (x1,y1,x2,y2)\n",
    "        longest_right = [0, (0,0,0,0)] # Distance, (x1,y1,x2,y2)\n",
    "        for line in lines:\n",
    "            # Calculating the total line distance and saving the longest line\n",
    "            x1,y1,x2,y2 = line[0]\n",
    "            \n",
    "            #cv2.line(frame, (x1,y1), (x2,y2), (255,255,0), 2)\n",
    "            #cv2.putText(frame, f'{len(lines)}', org=(50,50), fontFace=cv2.FONT_HERSHEY_SIMPLEX, fontScale=0.5, color=(75,60,100), thickness=1, lineType=cv2.LINE_AA)\n",
    "            \n",
    "            dist = ((y2-y1)**2 + (x2-x1)**2)**0.5\n",
    "            \n",
    "            # Checking if line is in the left side\n",
    "            if x1 <= edges.shape[1]//2 and x2 <= edges.shape[1]//2:\n",
    "                if dist >= longest_left[0]:\n",
    "                    longest_left[0] = dist\n",
    "                    longest_left[1] = line[0]\n",
    "            # Else in the right side\n",
    "            else:\n",
    "                if dist >= longest_right[0]:\n",
    "                    longest_right[0] = dist\n",
    "                    longest_right[1] = line[0]\n",
    "                        \n",
    "            \n",
    "        # Drawing only the longest line on both sides\n",
    "        #print(f'first: ({longest_left[1][0]},{longest_left[1][1]})', f'second: ({longest_left[1][2]},{longest_left[1][3]})')\n",
    "        #cv2.line(frame, (longest_left[1][0],longest_left[1][1]), (longest_left[1][2],longest_left[1][3]), (0,255,0), 2)\n",
    "        #cv2.line(frame, (longest_right[1][0],longest_right[1][1]), (longest_right[1][2], longest_right[1][3]), (0,255,0), 2)\n",
    "        \n",
    "    \n",
    "        \n",
    "        # ----------------------- HOUGH LINES METHOD ----------------------------#\n",
    "        \n",
    "        # - - - - - Technique No. 1 to find center reference - - - - - #\n",
    "        # Finding and drawing the middle point on both lines (longest segments)\n",
    "        middle_left = ((longest_left[1][0]+longest_left[1][2])//2, (longest_left[1][1]+longest_left[1][3])//2)\n",
    "        middle_right = ((longest_right[1][0]+longest_right[1][2])//2, (longest_right[1][1]+longest_right[1][3])//2)\n",
    "        cv2.circle(frame, middle_left, 5, (0,0,255), 5)\n",
    "        cv2.circle(frame, middle_right, 5, (0,0,255), 5)\n",
    "        # Lines between both points and middle point -> reference to follow\n",
    "        center_reference = ((middle_left[0]+middle_right[0])//2, (middle_left[1]+middle_right[1])//2)\n",
    "        cv2.line(frame, middle_left, middle_right, (255,0,0), 2)\n",
    "        cv2.circle(frame, center_reference, 5, (255,255,255), 5)\n",
    "        # - - - - - - - - - - - - - - - - - - - - - - - - - - - - - - #\n",
    "        \n",
    "        # - - - - - Technique No. 2 to find center reference - - - - - #\n",
    "        # Lines between opposite sides of the longest segments\n",
    "        # Checking which points are up or down\n",
    "        if longest_left[1][1] > longest_left[1][3]:\n",
    "            lower_left = (longest_left[1][0], longest_left[1][1])\n",
    "            upper_left = (longest_left[1][2], longest_left[1][3])\n",
    "        else: \n",
    "            lower_left = (longest_left[1][2], longest_left[1][3])\n",
    "            upper_left = (longest_left[1][0], longest_left[1][1])\n",
    "            \n",
    "        if longest_right[1][1] > longest_right[1][3]:\n",
    "            lower_right = (longest_right[1][0], longest_right[1][1])\n",
    "            upper_right = (longest_right[1][2], longest_right[1][3])\n",
    "        else: \n",
    "            lower_right = (longest_right[1][2], longest_right[1][3])\n",
    "            upper_right = (longest_right[1][0], longest_right[1][1])\n",
    "        \n",
    "        # Drawing opposite lines\n",
    "        cv2.line(frame, upper_left, lower_right, (0,255,255), 2)\n",
    "        cv2.line(frame, lower_left, upper_right, (0,255,255), 2)\n",
    "        #Drawing intersection point between both lines\n",
    "        intersection_reference = find_intersection(upper_left, lower_right, lower_left, upper_right)\n",
    "        if intersection_reference:\n",
    "            cv2.circle(frame, intersection_reference, 5, (255,0,255), 5)\n",
    "        # - - - - - - - - - - - - - - - - - - - - - - - - - - - - - - #\n",
    "        \n",
    "    else: pass #print('No lines detected')\n",
    "    \"\"\" "
   ]
  },
  {
   "cell_type": "code",
   "execution_count": null,
   "id": "0366445a-e1c4-4096-bcb9-6afb84378748",
   "metadata": {},
   "outputs": [],
   "source": []
  }
 ],
 "metadata": {
  "kernelspec": {
   "display_name": "Python 3 (ipykernel)",
   "language": "python",
   "name": "python3"
  },
  "language_info": {
   "codemirror_mode": {
    "name": "ipython",
    "version": 3
   },
   "file_extension": ".py",
   "mimetype": "text/x-python",
   "name": "python",
   "nbconvert_exporter": "python",
   "pygments_lexer": "ipython3",
   "version": "3.9.7"
  }
 },
 "nbformat": 4,
 "nbformat_minor": 5
}
