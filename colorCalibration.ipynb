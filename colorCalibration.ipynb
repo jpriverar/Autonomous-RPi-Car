{
 "cells": [
  {
   "cell_type": "code",
   "execution_count": 2,
   "id": "d97e640a-7c12-494b-8070-cc4a8b1da558",
   "metadata": {},
   "outputs": [],
   "source": [
    "import cv2\n",
    "import numpy as np"
   ]
  },
  {
   "cell_type": "code",
   "execution_count": 3,
   "id": "68ce8f29-5651-4eac-bf62-31358d140dbb",
   "metadata": {},
   "outputs": [],
   "source": [
    "def on_low_0_thresh_trackbar(val):\n",
    "    global low_vals\n",
    "    low_vals[0] = val\n",
    "    #print('LOW', low_vals)\n",
    "\n",
    "def on_high_0_thresh_trackbar(val):\n",
    "    global high_vals\n",
    "    high_vals[0] = val\n",
    "    #print('HIGH', high_vals)\n",
    "    \n",
    "def on_low_1_thresh_trackbar(val):\n",
    "    global low_vals\n",
    "    low_vals[1] = val\n",
    "\n",
    "def on_high_1_thresh_trackbar(val):\n",
    "    global high_vals\n",
    "    high_vals[1] = val\n",
    "    \n",
    "def on_low_2_thresh_trackbar(val):\n",
    "    global low_vals\n",
    "    low_vals[2] = val\n",
    "    \n",
    "def on_high_2_thresh_trackbar(val):\n",
    "    global high_vals\n",
    "    high_vals[2] = val\n",
    "\n",
    "# Defining initial values\n",
    "low_vals = np.array([0, 0, 0])\n",
    "high_vals = np.array([255, 255, 255])\n",
    "\n",
    "# Defining maximum values\n",
    "max_vals = [255,255,255]\n",
    "\n",
    "# Defining color space\n",
    "input_channels = 'HSV'"
   ]
  },
  {
   "cell_type": "code",
   "execution_count": 25,
   "id": "c7479283-a1cd-4fb5-9353-6d2f4a1327b5",
   "metadata": {},
   "outputs": [],
   "source": [
    "cap = cv2.VideoCapture(2)\n",
    "\n",
    "width = int(cap.get(3))\n",
    "height = int(cap.get(4))\n",
    "\n",
    "# Creating named window\n",
    "window_name = 'Frame'\n",
    "cv2.namedWindow(window_name)\n",
    "\n",
    "# Creating trackbars\n",
    "for i, channel in enumerate(input_channels):\n",
    "    cv2.createTrackbar(f'Low {channel}', window_name, low_vals[i], max_vals[i], locals()[f'on_low_{i}_thresh_trackbar'])\n",
    "    cv2.createTrackbar(f'High {channel}', window_name, high_vals[i], max_vals[i], locals()[f'on_high_{i}_thresh_trackbar'])\n",
    "\n",
    "if not cap.isOpened():\n",
    "    raise  RuntimeError(\"Unable to read camera feed\")\n",
    "    \n",
    "try:\n",
    "    while cap.isOpened():\n",
    "        ret, frame =  cap.read()\n",
    "        if frame is None:\n",
    "            print('No frame')\n",
    "            break\n",
    "            \n",
    "        # Cropping the image to remove logitech border\n",
    "        frame = frame[75:height-75, 15:width-15, :]\n",
    "\n",
    "        # Color space mapping\n",
    "        hsv_frame = cv2.cvtColor(frame, cv2.COLOR_BGR2HSV)\n",
    "\n",
    "        # Masking based of user values\n",
    "        mask = cv2.inRange(hsv_frame, low_vals, high_vals)\n",
    "        masked = cv2.bitwise_and(frame, frame, mask=mask)\n",
    "        \n",
    "        # Checking if user wants to exit ('q' or esc)\n",
    "        key = cv2.waitKey(1) & 0xFF\n",
    "        if key == ord('q') or key == 27: break\n",
    "\n",
    "        cv2.imshow(window_name, masked)\n",
    "        \n",
    "    cap.release()\n",
    "    cv2.destroyAllWindows()\n",
    "    \n",
    "    # Writing threshold values to the respective file\n",
    "    file = open(f'{input_channels}_values', 'w')\n",
    "    for val in low_vals: file.write(f'{val} ')\n",
    "    file.write('\\n')\n",
    "    for val in high_vals: file.write(f'{val} ')\n",
    "    file.close()\n",
    "        \n",
    "except Exception as e: \n",
    "    print(e)\n",
    "    cap.release()\n",
    "    cv2.destroyAllWindows()"
   ]
  },
  {
   "cell_type": "code",
   "execution_count": 34,
   "id": "2b5d4be4-f567-44da-ae27-be80e974ecbe",
   "metadata": {},
   "outputs": [],
   "source": [
    "cap = cv2.VideoCapture(2)\n",
    "\n",
    "while cap.isOpened():\n",
    "    ret, frame =  cap.read()\n",
    "    if frame is None:\n",
    "        print('No frame')\n",
    "        break\n",
    "    r = frame.copy() \n",
    "    r[:,:,0:2] = 0\n",
    "    g = frame.copy()\n",
    "    g[:,:,0:3:2] = 0\n",
    "    b = frame.copy()\n",
    "    b[:,:,1:3] = 0\n",
    "    \n",
    "    # Checking if user wants to exit ('q' or esc)\n",
    "    key = cv2.waitKey(1) & 0xFF\n",
    "    if key == ord('q') or key == 27: break\n",
    "\n",
    "    cv2.imshow('red', r)\n",
    "    cv2.imshow('green', g)\n",
    "    cv2.imshow('blue', b)\n",
    "    \n",
    "cap.release()\n",
    "cv2.destroyAllWindows()"
   ]
  },
  {
   "cell_type": "code",
   "execution_count": 53,
   "id": "1bce50cb-64d0-4465-b186-71eb4f2139fb",
   "metadata": {},
   "outputs": [
    {
     "name": "stdout",
     "output_type": "stream",
     "text": [
      "[100, 2, 3]\n"
     ]
    }
   ],
   "source": [
    "lista = [1,2,3]\n",
    "\n",
    "def change(lista):\n",
    "    lista[0] = 100\n",
    "    \n",
    "change(lista)\n",
    "print(lista)"
   ]
  },
  {
   "cell_type": "code",
   "execution_count": 11,
   "id": "b3c3aab2-50d0-4ed0-954e-beb42946ebc8",
   "metadata": {},
   "outputs": [
    {
     "data": {
      "text/plain": [
       "-25"
      ]
     },
     "execution_count": 11,
     "metadata": {},
     "output_type": "execute_result"
    }
   ],
   "source": [
    "int(-25)"
   ]
  },
  {
   "cell_type": "code",
   "execution_count": null,
   "id": "58cb025e-228e-49cc-8911-551e47c0ac6d",
   "metadata": {},
   "outputs": [],
   "source": []
  }
 ],
 "metadata": {
  "kernelspec": {
   "display_name": "Python 3 (ipykernel)",
   "language": "python",
   "name": "python3"
  },
  "language_info": {
   "codemirror_mode": {
    "name": "ipython",
    "version": 3
   },
   "file_extension": ".py",
   "mimetype": "text/x-python",
   "name": "python",
   "nbconvert_exporter": "python",
   "pygments_lexer": "ipython3",
   "version": "3.9.7"
  }
 },
 "nbformat": 4,
 "nbformat_minor": 5
}
